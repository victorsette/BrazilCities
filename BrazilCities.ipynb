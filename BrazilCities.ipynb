{
 "cells": [
  {
   "cell_type": "code",
   "execution_count": 209,
   "metadata": {
    "collapsed": true
   },
   "outputs": [],
   "source": [
    "import numpy as np\n",
    "import pandas as pd\n",
    "import seaborn as sns\n",
    "import matplotlib.pyplot as plt\n",
    "import glob\n",
    "\n",
    "%matplotlib inline"
   ]
  },
  {
   "cell_type": "markdown",
   "metadata": {},
   "source": [
    "# Reading files\n",
    "\n",
    "## Financial data"
   ]
  },
  {
   "cell_type": "code",
   "execution_count": 184,
   "metadata": {
    "collapsed": true
   },
   "outputs": [],
   "source": [
    "def extract_financial(year):\n",
    "    # file list\n",
    "    path = 'Data/Receitas_Despesas_FNP/' + str(year) + \"_*.csv\"\n",
    "    flist = glob.glob(path)\n",
    "    \n",
    "    #read first file\n",
    "    df = pd.read_csv(flist[0], header=3, encoding='latin1')\n",
    "    # concat all files in a data frame\n",
    "    for f in flist[1:]:\n",
    "        df = pd.concat([df, pd.read_csv(f, header=3, encoding='latin1') ], axis=0)\n",
    "    \n",
    "    #rename population column\n",
    "    poplab = u'População ' + str(year)\n",
    "    df.rename(columns={poplab: 'Populacao'}, inplace=True)\n",
    "    \n",
    "    #convert to numeric\n",
    "    df.iloc[:,1] = pd.to_numeric(df.iloc[:,1].str.replace(',',''), errors='coerce')\n",
    "    for i in range(3, len(df.columns)):\n",
    "        if df.dtypes[i]=='object':\n",
    "            df.iloc[:,i] = pd.to_numeric(df.iloc[:,i].str.replace(',',''), errors='coerce')\n",
    "    \n",
    "    #fill population 0 with nan\n",
    "    df['Populacao'].replace(0, np.nan, inplace=True)\n",
    "    \n",
    "    \n",
    "    #get first 3 columns\n",
    "    finance = df.loc[:,[u'UF', u'Municípios', u'Populacao']]\n",
    "    \n",
    "    #add interesting variables\n",
    "    finance['tot_revenue'] = df[u'Receita Total'] / df[u'Populacao']\n",
    "    finance['tot_expense'] = df[u'Despesa Total'] / df[u'Populacao']\n",
    "    finance['debt_interest_paid'] = df[u'Juros e Encargos da Dívida'] / df[u'Populacao']\n",
    "    #finance['debt_principal_paid'] = df[u'Amortização da Dívida'] / df[u'Populacao']\n",
    "    #finance['tot_expense_per_func'] = df[u'TOTAL GERAL DA DESPESA POR FUNÇÃO'] / df[u'Populacao']\n",
    "    finance['exp_legislative']  = df[u'Legislativa'] / df[u'Populacao']\n",
    "    finance['exp_administrative']  = df[u'Administração'] / df[u'Populacao']\n",
    "    finance['exp_pub_safety']  = df[u'Segurança Pública'] / df[u'Populacao']\n",
    "    finance['exp_health'] = df[u'Saúde'] / df[u'Populacao']\n",
    "    finance['exp_education'] = df[u'Educação'] / df[u'Populacao']\n",
    "    finance['exp_urban_infra'] = df[u'Urbanismo'] / df[u'Populacao']\n",
    "    finance['exp_housing'] = df[u'Habitação'] / df[u'Populacao']\n",
    "    finance['exp_sanitation'] = df[u'Saneamento'] / df[u'Populacao']\n",
    "    #finance['exp_agriculture'] = df[u'Agricultura'] / df[u'Populacao']\n",
    "    finance['exp_industry'] = df[u'Indústria'] / df[u'Populacao']\n",
    "    finance['exp_business-services'] = df[u'Comércio e Serviços'] / df[u'Populacao']\n",
    "    finance['exp_soc_assistance'] = df[u'Assistência Social'] / df[u'Populacao']\n",
    "    finance['exp_soc_security'] = df[u'Previdência Social'] / df[u'Populacao']\n",
    "    finance['exp_culture'] = df[u'Cultura'] / df[u'Populacao']\n",
    "    finance['exp_sci-tech'] = df[u'Ciência e Tecnologia'] / df[u'Populacao']\n",
    "    finance['exp_labor'] = df[u'Trabalho'] / df[u'Populacao']\n",
    "    finance['exp_transportation'] = df[u'Transporte'] / df[u'Populacao']\n",
    "    finance['exp_others'] = finance['tot_expense'] - \\\n",
    "                            finance.loc[:,'exp_legislative':'exp_transportation'].sum(1)\n",
    "    return finance   "
   ]
  },
  {
   "cell_type": "code",
   "execution_count": 158,
   "metadata": {
    "collapsed": true
   },
   "outputs": [],
   "source": [
    "# file list\n",
    "year = 2013\n",
    "path = 'Data/Receitas_Despesas_FNP/' + str(year) + \"_*.csv\"\n",
    "flist = glob.glob(path)\n",
    "\n",
    "#read first file\n",
    "df = pd.read_csv(flist[0], header=3, encoding='latin1')\n",
    "# concat all files in a data frame\n",
    "for f in flist[1:]:\n",
    "    df = pd.concat([df, pd.read_csv(f, header=3, encoding='latin1') ], axis=0)\n",
    "\n",
    "#rename population column\n",
    "poplab = u'População ' + str(year)\n",
    "df.rename(columns={poplab: 'Populacao'}, inplace=True)\n",
    "\n",
    "#convert to numeric\n",
    "df.iloc[:,1] = pd.to_numeric(df.iloc[:,1].str.replace(',',''), errors='coerce')\n",
    "for i in range(3, len(df.columns)):\n",
    "    if df.dtypes[i]=='object':\n",
    "        df.iloc[:,i] = pd.to_numeric(df.iloc[:,i].str.replace(',',''), errors='coerce')"
   ]
  },
  {
   "cell_type": "code",
   "execution_count": 168,
   "metadata": {
    "collapsed": false
   },
   "outputs": [
    {
     "data": {
      "text/plain": [
       "Populacao                                          2.496277e+05\n",
       "Receita Total                                      1.019171e+09\n",
       "Receitas Correntes                                 9.772842e+08\n",
       "Receita tributária                                 4.562123e+08\n",
       "Receitas de Contribuições                          3.215584e+07\n",
       "Receita Patrimonial                                2.431680e+07\n",
       "Receita Agropecuária                               3.819266e+04\n",
       "Receita Industrial                                 3.387589e+05\n",
       "Receita de Serviços                                2.453742e+07\n",
       "Transferências Correntes                           3.987638e+08\n",
       "Outras Receitas Correntes                          6.945539e+07\n",
       "Receitas de Capital                                3.830622e+07\n",
       "Deduções da Receita Corrente                       5.106833e+07\n",
       "Receitas Correntes Intra-Orçamentárias             6.341030e+07\n",
       "Receitas de Capital Intra-Orçamentárias            5.115633e+06\n",
       "Despesa Total                                      1.011638e+09\n",
       "Despesas Correntes                                 8.767469e+08\n",
       "Pessoal e Encargos Sociais                         3.438519e+08\n",
       "Juros e Encargos da Dívida                         4.625369e+07\n",
       "Outras Despesas Correntes                          5.141190e+08\n",
       "Despesas de Capital                                1.367030e+08\n",
       "Investimentos                                      1.065627e+08\n",
       "Inversões Financeiras                              4.423646e+06\n",
       "Amortização da Dívida                              2.907404e+07\n",
       "Total da Despesa por Função                        9.905960e+08\n",
       "Legislativa                                        2.123246e+07\n",
       "Judiciária                                         4.002185e+06\n",
       "Essencial à Justiça                                1.470984e+06\n",
       "Administração                                      4.825361e+07\n",
       "Defesa Nacional                                    6.573156e+04\n",
       "Segurança Pública                                  1.288147e+07\n",
       "Relações Exteriores                                1.913299e+05\n",
       "Assistência Social                                 2.619602e+07\n",
       "Previdência Social                                 1.524878e+08\n",
       "Saúde                                              1.914867e+08\n",
       "Trabalho                                           9.766402e+06\n",
       "Educação                                           2.017117e+08\n",
       "Cultura                                            9.911775e+06\n",
       "Direitos da Cidadania                              1.472164e+06\n",
       "Urbanismo                                          1.288485e+08\n",
       "Habitação                                          2.138091e+07\n",
       "Saneamento                                         2.566932e+07\n",
       "Gestão Ambiental                                   8.434631e+06\n",
       "Ciência e Tecnologia                               6.303325e+05\n",
       "Agricultura                                        9.111333e+05\n",
       "Organização Agrária                                9.571641e+03\n",
       "Indústria                                          1.003782e+06\n",
       "Comércio e Serviços                                4.931288e+06\n",
       "Comunicações                                       4.773661e+06\n",
       "Energia                                            2.490571e+06\n",
       "Transporte                                         6.114241e+07\n",
       "Desporto e Lazer                                   7.165526e+06\n",
       "Encargos Especiais                                 9.932832e+07\n",
       "TOTAL DA DESPESA POR FUNÇÃO (INTRAORÇAMENTÁRIA)    5.365832e+07\n",
       "TOTAL GERAL DA DESPESA POR FUNÇÃO                  1.017276e+09\n",
       "dtype: float64"
      ]
     },
     "execution_count": 168,
     "metadata": {},
     "output_type": "execute_result"
    }
   ],
   "source": [
    "df.std()"
   ]
  },
  {
   "cell_type": "code",
   "execution_count": 185,
   "metadata": {
    "collapsed": false
   },
   "outputs": [
    {
     "name": "stdout",
     "output_type": "stream",
     "text": [
      "2004\n",
      "2005\n",
      "2006\n",
      "2007\n",
      "2008\n",
      "2009\n",
      "2010\n",
      "2011\n",
      "2012\n",
      "2013\n",
      "2014\n",
      "2015\n",
      "2016\n"
     ]
    }
   ],
   "source": [
    "finance={}\n",
    "\n",
    "for i in range(2004, 2017):\n",
    "    print i\n",
    "    finance[i] = extract_financial(i)"
   ]
  },
  {
   "cell_type": "code",
   "execution_count": 199,
   "metadata": {
    "collapsed": false
   },
   "outputs": [],
   "source": [
    "finMeans = [finance[i].iloc[:,3:].mean(0) for i in range(2004, 2017)]"
   ]
  },
  {
   "cell_type": "code",
   "execution_count": 200,
   "metadata": {
    "collapsed": false
   },
   "outputs": [
    {
     "data": {
      "text/html": [
       "<div>\n",
       "<table border=\"1\" class=\"dataframe\">\n",
       "  <thead>\n",
       "    <tr style=\"text-align: right;\">\n",
       "      <th></th>\n",
       "      <th>2004</th>\n",
       "      <th>2005</th>\n",
       "      <th>2006</th>\n",
       "      <th>2007</th>\n",
       "      <th>2008</th>\n",
       "      <th>2009</th>\n",
       "      <th>2010</th>\n",
       "      <th>2011</th>\n",
       "      <th>2012</th>\n",
       "      <th>2013</th>\n",
       "      <th>2014</th>\n",
       "      <th>2015</th>\n",
       "      <th>2016</th>\n",
       "    </tr>\n",
       "  </thead>\n",
       "  <tbody>\n",
       "    <tr>\n",
       "      <th>tot_revenue</th>\n",
       "      <td>1628.806976</td>\n",
       "      <td>1812.575863</td>\n",
       "      <td>2003.898077</td>\n",
       "      <td>2180.502557</td>\n",
       "      <td>2472.089133</td>\n",
       "      <td>2382.137268</td>\n",
       "      <td>2631.691125</td>\n",
       "      <td>2845.070059</td>\n",
       "      <td>2975.986108</td>\n",
       "      <td>2941.836177</td>\n",
       "      <td>3092.706124</td>\n",
       "      <td>2935.663331</td>\n",
       "      <td>3017.627529</td>\n",
       "    </tr>\n",
       "    <tr>\n",
       "      <th>tot_expense</th>\n",
       "      <td>1606.999401</td>\n",
       "      <td>1774.679814</td>\n",
       "      <td>2013.227863</td>\n",
       "      <td>2140.507351</td>\n",
       "      <td>2419.103915</td>\n",
       "      <td>2389.912975</td>\n",
       "      <td>2628.749281</td>\n",
       "      <td>2793.082820</td>\n",
       "      <td>2978.361794</td>\n",
       "      <td>2885.234136</td>\n",
       "      <td>3117.145031</td>\n",
       "      <td>2936.824406</td>\n",
       "      <td>2905.479036</td>\n",
       "    </tr>\n",
       "    <tr>\n",
       "      <th>debt_interest_paid</th>\n",
       "      <td>3.632410</td>\n",
       "      <td>4.260299</td>\n",
       "      <td>4.197804</td>\n",
       "      <td>4.367654</td>\n",
       "      <td>4.957662</td>\n",
       "      <td>5.265798</td>\n",
       "      <td>4.846882</td>\n",
       "      <td>5.369239</td>\n",
       "      <td>6.342842</td>\n",
       "      <td>5.240288</td>\n",
       "      <td>4.649557</td>\n",
       "      <td>4.648994</td>\n",
       "      <td>5.345515</td>\n",
       "    </tr>\n",
       "    <tr>\n",
       "      <th>exp_legislative</th>\n",
       "      <td>70.448162</td>\n",
       "      <td>76.782058</td>\n",
       "      <td>84.936181</td>\n",
       "      <td>89.536218</td>\n",
       "      <td>92.049412</td>\n",
       "      <td>107.186913</td>\n",
       "      <td>96.946837</td>\n",
       "      <td>99.136044</td>\n",
       "      <td>101.271091</td>\n",
       "      <td>111.246261</td>\n",
       "      <td>114.708958</td>\n",
       "      <td>112.601047</td>\n",
       "      <td>110.848670</td>\n",
       "    </tr>\n",
       "    <tr>\n",
       "      <th>exp_administrative</th>\n",
       "      <td>283.232546</td>\n",
       "      <td>327.840262</td>\n",
       "      <td>339.870496</td>\n",
       "      <td>363.572251</td>\n",
       "      <td>385.093039</td>\n",
       "      <td>405.317628</td>\n",
       "      <td>418.302355</td>\n",
       "      <td>449.513184</td>\n",
       "      <td>431.190526</td>\n",
       "      <td>452.849397</td>\n",
       "      <td>470.217704</td>\n",
       "      <td>437.254740</td>\n",
       "      <td>414.450340</td>\n",
       "    </tr>\n",
       "  </tbody>\n",
       "</table>\n",
       "</div>"
      ],
      "text/plain": [
       "                           2004         2005         2006         2007  \\\n",
       "tot_revenue         1628.806976  1812.575863  2003.898077  2180.502557   \n",
       "tot_expense         1606.999401  1774.679814  2013.227863  2140.507351   \n",
       "debt_interest_paid     3.632410     4.260299     4.197804     4.367654   \n",
       "exp_legislative       70.448162    76.782058    84.936181    89.536218   \n",
       "exp_administrative   283.232546   327.840262   339.870496   363.572251   \n",
       "\n",
       "                           2008         2009         2010         2011  \\\n",
       "tot_revenue         2472.089133  2382.137268  2631.691125  2845.070059   \n",
       "tot_expense         2419.103915  2389.912975  2628.749281  2793.082820   \n",
       "debt_interest_paid     4.957662     5.265798     4.846882     5.369239   \n",
       "exp_legislative       92.049412   107.186913    96.946837    99.136044   \n",
       "exp_administrative   385.093039   405.317628   418.302355   449.513184   \n",
       "\n",
       "                           2012         2013         2014         2015  \\\n",
       "tot_revenue         2975.986108  2941.836177  3092.706124  2935.663331   \n",
       "tot_expense         2978.361794  2885.234136  3117.145031  2936.824406   \n",
       "debt_interest_paid     6.342842     5.240288     4.649557     4.648994   \n",
       "exp_legislative      101.271091   111.246261   114.708958   112.601047   \n",
       "exp_administrative   431.190526   452.849397   470.217704   437.254740   \n",
       "\n",
       "                           2016  \n",
       "tot_revenue         3017.627529  \n",
       "tot_expense         2905.479036  \n",
       "debt_interest_paid     5.345515  \n",
       "exp_legislative      110.848670  \n",
       "exp_administrative   414.450340  "
      ]
     },
     "execution_count": 200,
     "metadata": {},
     "output_type": "execute_result"
    }
   ],
   "source": [
    "finTS = pd.DataFrame(np.array(finMeans).T, \n",
    "                     columns=range(2004, 2017), index=finance[2004].columns[3:])\n",
    "finTS.head()"
   ]
  },
  {
   "cell_type": "code",
   "execution_count": 231,
   "metadata": {
    "collapsed": false
   },
   "outputs": [
    {
     "data": {
      "image/png": "[encoded data removed]",
      "text/plain": [
       "<matplotlib.figure.Figure at 0x17aa7ef0>"
      ]
     },
     "metadata": {},
     "output_type": "display_data"
    }
   ],
   "source": [
    "lst = ['tot_revenue', 'tot_expense', 'exp_health', 'exp_educ',\n",
    "       'exp_legislative', 'exp_administrative', 'debt_interest_paid']\n",
    "\n",
    "fig = finTS.loc[lst].T.plot(figsize=(16,12), fontsize=14, linewidth=3)\n",
    "plt.ylabel('BRL per Capita per year', fontsize='14')\n",
    "plt.xlabel('year',fontsize='14')\n",
    "plt.title('Average Municipal Finances', fontsize=18)\n",
    "plt.legend(fontsize=16)\n",
    "plt.savefig('AvgFinances.png')"
   ]
  },
  {
   "cell_type": "markdown",
   "metadata": {},
   "source": [
    "## Health data"
   ]
  },
  {
   "cell_type": "code",
   "execution_count": 103,
   "metadata": {
    "collapsed": false
   },
   "outputs": [
    {
     "data": {
      "text/html": [
       "<div>\n",
       "<table border=\"1\" class=\"dataframe\">\n",
       "  <thead>\n",
       "    <tr style=\"text-align: right;\">\n",
       "      <th></th>\n",
       "      <th>Município</th>\n",
       "      <th>1._Cob_equipes_atenção_básica</th>\n",
       "    </tr>\n",
       "  </thead>\n",
       "  <tbody>\n",
       "    <tr>\n",
       "      <th>0</th>\n",
       "      <td>110001 Alta Floresta D'Oeste</td>\n",
       "      <td>46,17</td>\n",
       "    </tr>\n",
       "    <tr>\n",
       "      <th>1</th>\n",
       "      <td>110037 Alto Alegre dos Parecis</td>\n",
       "      <td>77,63</td>\n",
       "    </tr>\n",
       "    <tr>\n",
       "      <th>2</th>\n",
       "      <td>110040 Alto Paraíso</td>\n",
       "      <td>53,11</td>\n",
       "    </tr>\n",
       "    <tr>\n",
       "      <th>3</th>\n",
       "      <td>110034 Alvorada D'Oeste</td>\n",
       "      <td>17,77</td>\n",
       "    </tr>\n",
       "    <tr>\n",
       "      <th>4</th>\n",
       "      <td>110002 Ariquemes</td>\n",
       "      <td>47,70</td>\n",
       "    </tr>\n",
       "  </tbody>\n",
       "</table>\n",
       "</div>"
      ],
      "text/plain": [
       "                        Município 1._Cob_equipes_atenção_básica\n",
       "0    110001 Alta Floresta D'Oeste                         46,17\n",
       "1  110037 Alto Alegre dos Parecis                         77,63\n",
       "2             110040 Alto Paraíso                         53,11\n",
       "3         110034 Alvorada D'Oeste                         17,77\n",
       "4                110002 Ariquemes                         47,70"
      ]
     },
     "execution_count": 103,
     "metadata": {},
     "output_type": "execute_result"
    }
   ],
   "source": [
    "health = pd.read_csv('Data/DATASUS/CoberturaBasica_2008.csv', \n",
    "                     header=3, delimiter=';', decimal=',', encoding='latin1')\n",
    "health.head()"
   ]
  },
  {
   "cell_type": "code",
   "execution_count": 105,
   "metadata": {
    "collapsed": false
   },
   "outputs": [
    {
     "data": {
      "text/html": [
       "<div>\n",
       "<table border=\"1\" class=\"dataframe\">\n",
       "  <thead>\n",
       "    <tr style=\"text-align: right;\">\n",
       "      <th></th>\n",
       "      <th>Município</th>\n",
       "      <th>2008</th>\n",
       "    </tr>\n",
       "  </thead>\n",
       "  <tbody>\n",
       "    <tr>\n",
       "      <th>0</th>\n",
       "      <td>110001 Alta Floresta D'Oeste</td>\n",
       "      <td>46.17</td>\n",
       "    </tr>\n",
       "    <tr>\n",
       "      <th>1</th>\n",
       "      <td>110037 Alto Alegre dos Parecis</td>\n",
       "      <td>77.63</td>\n",
       "    </tr>\n",
       "    <tr>\n",
       "      <th>2</th>\n",
       "      <td>110040 Alto Paraíso</td>\n",
       "      <td>53.11</td>\n",
       "    </tr>\n",
       "    <tr>\n",
       "      <th>3</th>\n",
       "      <td>110034 Alvorada D'Oeste</td>\n",
       "      <td>17.77</td>\n",
       "    </tr>\n",
       "    <tr>\n",
       "      <th>4</th>\n",
       "      <td>110002 Ariquemes</td>\n",
       "      <td>47.70</td>\n",
       "    </tr>\n",
       "  </tbody>\n",
       "</table>\n",
       "</div>"
      ],
      "text/plain": [
       "                        Município   2008\n",
       "0    110001 Alta Floresta D'Oeste  46.17\n",
       "1  110037 Alto Alegre dos Parecis  77.63\n",
       "2             110040 Alto Paraíso  53.11\n",
       "3         110034 Alvorada D'Oeste  17.77\n",
       "4                110002 Ariquemes  47.70"
      ]
     },
     "execution_count": 105,
     "metadata": {},
     "output_type": "execute_result"
    }
   ],
   "source": [
    "health.rename(columns={u'1._Cob_equipes_atenção_básica':'2008'}, inplace=True)\n",
    "health['2008'] = pd.to_numeric(health['2008'].str.replace(',','.'), errors='coerce')\n",
    "health.head()"
   ]
  },
  {
   "cell_type": "code",
   "execution_count": 106,
   "metadata": {
    "collapsed": false
   },
   "outputs": [
    {
     "data": {
      "text/html": [
       "<div>\n",
       "<table border=\"1\" class=\"dataframe\">\n",
       "  <thead>\n",
       "    <tr style=\"text-align: right;\">\n",
       "      <th></th>\n",
       "      <th>2008</th>\n",
       "      <th>2009</th>\n",
       "      <th>2010</th>\n",
       "      <th>2011</th>\n",
       "      <th>2012</th>\n",
       "      <th>2013</th>\n",
       "      <th>2014</th>\n",
       "      <th>2015</th>\n",
       "    </tr>\n",
       "  </thead>\n",
       "  <tbody>\n",
       "    <tr>\n",
       "      <th>count</th>\n",
       "      <td>5565.000000</td>\n",
       "      <td>5566.000000</td>\n",
       "      <td>5566.000000</td>\n",
       "      <td>5566.000000</td>\n",
       "      <td>5566.000000</td>\n",
       "      <td>5571.000000</td>\n",
       "      <td>5571.000000</td>\n",
       "      <td>5571.000000</td>\n",
       "    </tr>\n",
       "    <tr>\n",
       "      <th>mean</th>\n",
       "      <td>84.987173</td>\n",
       "      <td>85.985057</td>\n",
       "      <td>86.590555</td>\n",
       "      <td>86.643793</td>\n",
       "      <td>86.848854</td>\n",
       "      <td>88.169284</td>\n",
       "      <td>91.935426</td>\n",
       "      <td>91.997509</td>\n",
       "    </tr>\n",
       "    <tr>\n",
       "      <th>std</th>\n",
       "      <td>22.622351</td>\n",
       "      <td>21.517245</td>\n",
       "      <td>20.982420</td>\n",
       "      <td>21.348352</td>\n",
       "      <td>21.362484</td>\n",
       "      <td>20.019239</td>\n",
       "      <td>16.269111</td>\n",
       "      <td>16.164382</td>\n",
       "    </tr>\n",
       "    <tr>\n",
       "      <th>min</th>\n",
       "      <td>0.000000</td>\n",
       "      <td>0.000000</td>\n",
       "      <td>0.000000</td>\n",
       "      <td>0.000000</td>\n",
       "      <td>0.000000</td>\n",
       "      <td>0.000000</td>\n",
       "      <td>0.000000</td>\n",
       "      <td>0.000000</td>\n",
       "    </tr>\n",
       "    <tr>\n",
       "      <th>25%</th>\n",
       "      <td>73.660000</td>\n",
       "      <td>76.590000</td>\n",
       "      <td>77.902500</td>\n",
       "      <td>78.622500</td>\n",
       "      <td>78.910000</td>\n",
       "      <td>82.000000</td>\n",
       "      <td>92.085000</td>\n",
       "      <td>91.740000</td>\n",
       "    </tr>\n",
       "    <tr>\n",
       "      <th>50%</th>\n",
       "      <td>100.000000</td>\n",
       "      <td>100.000000</td>\n",
       "      <td>100.000000</td>\n",
       "      <td>100.000000</td>\n",
       "      <td>100.000000</td>\n",
       "      <td>100.000000</td>\n",
       "      <td>100.000000</td>\n",
       "      <td>100.000000</td>\n",
       "    </tr>\n",
       "    <tr>\n",
       "      <th>75%</th>\n",
       "      <td>100.000000</td>\n",
       "      <td>100.000000</td>\n",
       "      <td>100.000000</td>\n",
       "      <td>100.000000</td>\n",
       "      <td>100.000000</td>\n",
       "      <td>100.000000</td>\n",
       "      <td>100.000000</td>\n",
       "      <td>100.000000</td>\n",
       "    </tr>\n",
       "    <tr>\n",
       "      <th>max</th>\n",
       "      <td>100.000000</td>\n",
       "      <td>100.000000</td>\n",
       "      <td>100.000000</td>\n",
       "      <td>100.000000</td>\n",
       "      <td>100.000000</td>\n",
       "      <td>100.000000</td>\n",
       "      <td>100.000000</td>\n",
       "      <td>100.000000</td>\n",
       "    </tr>\n",
       "  </tbody>\n",
       "</table>\n",
       "</div>"
      ],
      "text/plain": [
       "              2008         2009         2010         2011         2012  \\\n",
       "count  5565.000000  5566.000000  5566.000000  5566.000000  5566.000000   \n",
       "mean     84.987173    85.985057    86.590555    86.643793    86.848854   \n",
       "std      22.622351    21.517245    20.982420    21.348352    21.362484   \n",
       "min       0.000000     0.000000     0.000000     0.000000     0.000000   \n",
       "25%      73.660000    76.590000    77.902500    78.622500    78.910000   \n",
       "50%     100.000000   100.000000   100.000000   100.000000   100.000000   \n",
       "75%     100.000000   100.000000   100.000000   100.000000   100.000000   \n",
       "max     100.000000   100.000000   100.000000   100.000000   100.000000   \n",
       "\n",
       "              2013         2014         2015  \n",
       "count  5571.000000  5571.000000  5571.000000  \n",
       "mean     88.169284    91.935426    91.997509  \n",
       "std      20.019239    16.269111    16.164382  \n",
       "min       0.000000     0.000000     0.000000  \n",
       "25%      82.000000    92.085000    91.740000  \n",
       "50%     100.000000   100.000000   100.000000  \n",
       "75%     100.000000   100.000000   100.000000  \n",
       "max     100.000000   100.000000   100.000000  "
      ]
     },
     "execution_count": 106,
     "metadata": {},
     "output_type": "execute_result"
    }
   ],
   "source": [
    "for i in range(2009, 2016):\n",
    "    year = str(i)\n",
    "    path = 'Data/DATASUS/CoberturaBasica_' + year + '.csv'\n",
    "    hdata = pd.read_csv(path, header=3, delimiter=';', decimal=',', encoding='latin1')\n",
    "    hdata.rename(columns={u'1._Cob_equipes_atenção_básica':year}, inplace=True)\n",
    "    hdata[year] = pd.to_numeric(hdata[year].str.replace(',','.'), errors='coerce')\n",
    "    \n",
    "    health = pd.merge(health, hdata, how='outer', on=u'Município')\n",
    "    \n",
    "health.describe()"
   ]
  },
  {
   "cell_type": "code",
   "execution_count": 108,
   "metadata": {
    "collapsed": false
   },
   "outputs": [
    {
     "data": {
      "image/png": "[encoded data removed]",
      "text/plain": [
       "<matplotlib.figure.Figure at 0x172ea4e0>"
      ]
     },
     "metadata": {},
     "output_type": "display_data"
    }
   ],
   "source": [
    "health.boxplot()\n",
    "plt.show()"
   ]
  },
  {
   "cell_type": "code",
   "execution_count": 109,
   "metadata": {
    "collapsed": false
   },
   "outputs": [
    {
     "data": {
      "image/png": "[encoded data removed]",
      "text/plain": [
       "<matplotlib.figure.Figure at 0x16b52208>"
      ]
     },
     "metadata": {},
     "output_type": "display_data"
    }
   ],
   "source": [
    "health.mean().plot()\n",
    "plt.show()"
   ]
  },
  {
   "cell_type": "markdown",
   "metadata": {},
   "source": [
    "## Education"
   ]
  },
  {
   "cell_type": "code",
   "execution_count": 110,
   "metadata": {
    "collapsed": false
   },
   "outputs": [
    {
     "data": {
      "text/html": [
       "<div>\n",
       "<table border=\"1\" class=\"dataframe\">\n",
       "  <thead>\n",
       "    <tr style=\"text-align: right;\">\n",
       "      <th></th>\n",
       "      <th>UF</th>\n",
       "      <th>ID</th>\n",
       "      <th>Municipio</th>\n",
       "      <th>2005</th>\n",
       "      <th>2006</th>\n",
       "      <th>2007</th>\n",
       "      <th>2008</th>\n",
       "      <th>2009</th>\n",
       "      <th>2010</th>\n",
       "      <th>2011</th>\n",
       "      <th>2012</th>\n",
       "      <th>2013</th>\n",
       "      <th>2014</th>\n",
       "      <th>2015</th>\n",
       "    </tr>\n",
       "  </thead>\n",
       "  <tbody>\n",
       "    <tr>\n",
       "      <th>0</th>\n",
       "      <td>RO</td>\n",
       "      <td>1100015</td>\n",
       "      <td>Alta Floresta D'Oeste</td>\n",
       "      <td>3.7</td>\n",
       "      <td>3.85</td>\n",
       "      <td>4</td>\n",
       "      <td>4.25</td>\n",
       "      <td>4.5</td>\n",
       "      <td>4.40</td>\n",
       "      <td>4.3</td>\n",
       "      <td>4.85</td>\n",
       "      <td>5.4</td>\n",
       "      <td>5.60</td>\n",
       "      <td>5.8</td>\n",
       "    </tr>\n",
       "    <tr>\n",
       "      <th>1</th>\n",
       "      <td>RO</td>\n",
       "      <td>1100023</td>\n",
       "      <td>Ariquemes</td>\n",
       "      <td>3.7</td>\n",
       "      <td>3.80</td>\n",
       "      <td>3.9</td>\n",
       "      <td>4.15</td>\n",
       "      <td>4.4</td>\n",
       "      <td>4.50</td>\n",
       "      <td>4.6</td>\n",
       "      <td>4.75</td>\n",
       "      <td>4.9</td>\n",
       "      <td>5.05</td>\n",
       "      <td>5.2</td>\n",
       "    </tr>\n",
       "    <tr>\n",
       "      <th>2</th>\n",
       "      <td>RO</td>\n",
       "      <td>1100031</td>\n",
       "      <td>Cabixi</td>\n",
       "      <td>3.7</td>\n",
       "      <td>3.75</td>\n",
       "      <td>3.8</td>\n",
       "      <td>4.20</td>\n",
       "      <td>4.6</td>\n",
       "      <td>4.90</td>\n",
       "      <td>5.2</td>\n",
       "      <td>5.40</td>\n",
       "      <td>5.6</td>\n",
       "      <td>5.55</td>\n",
       "      <td>5.5</td>\n",
       "    </tr>\n",
       "    <tr>\n",
       "      <th>3</th>\n",
       "      <td>RO</td>\n",
       "      <td>1100049</td>\n",
       "      <td>Cacoal</td>\n",
       "      <td>4</td>\n",
       "      <td>4.00</td>\n",
       "      <td>4</td>\n",
       "      <td>4.20</td>\n",
       "      <td>4.4</td>\n",
       "      <td>4.80</td>\n",
       "      <td>5.2</td>\n",
       "      <td>5.50</td>\n",
       "      <td>5.8</td>\n",
       "      <td>5.85</td>\n",
       "      <td>5.9</td>\n",
       "    </tr>\n",
       "    <tr>\n",
       "      <th>4</th>\n",
       "      <td>RO</td>\n",
       "      <td>1100056</td>\n",
       "      <td>Cerejeiras</td>\n",
       "      <td>4</td>\n",
       "      <td>4.25</td>\n",
       "      <td>4.5</td>\n",
       "      <td>4.70</td>\n",
       "      <td>4.9</td>\n",
       "      <td>5.15</td>\n",
       "      <td>5.4</td>\n",
       "      <td>5.80</td>\n",
       "      <td>6.2</td>\n",
       "      <td>6.05</td>\n",
       "      <td>5.9</td>\n",
       "    </tr>\n",
       "  </tbody>\n",
       "</table>\n",
       "</div>"
      ],
      "text/plain": [
       "   UF       ID              Municipio 2005  2006 2007  2008 2009  2010 2011  \\\n",
       "0  RO  1100015  Alta Floresta D'Oeste  3.7  3.85    4  4.25  4.5  4.40  4.3   \n",
       "1  RO  1100023              Ariquemes  3.7  3.80  3.9  4.15  4.4  4.50  4.6   \n",
       "2  RO  1100031                 Cabixi  3.7  3.75  3.8  4.20  4.6  4.90  5.2   \n",
       "3  RO  1100049                 Cacoal    4  4.00    4  4.20  4.4  4.80  5.2   \n",
       "4  RO  1100056             Cerejeiras    4  4.25  4.5  4.70  4.9  5.15  5.4   \n",
       "\n",
       "   2012 2013  2014 2015  \n",
       "0  4.85  5.4  5.60  5.8  \n",
       "1  4.75  4.9  5.05  5.2  \n",
       "2  5.40  5.6  5.55  5.5  \n",
       "3  5.50  5.8  5.85  5.9  \n",
       "4  5.80  6.2  6.05  5.9  "
      ]
     },
     "execution_count": 110,
     "metadata": {},
     "output_type": "execute_result"
    }
   ],
   "source": [
    "educ = pd.read_excel('Data/IDEB/Anos Iniciais/IDEB_2015_ANOS_INICIAIS_MUNICIPIOS.xlsx', sheetname='Sheet1', header=1)\n",
    "educ.head()"
   ]
  },
  {
   "cell_type": "code",
   "execution_count": 121,
   "metadata": {
    "collapsed": false
   },
   "outputs": [],
   "source": [
    "educ.ID = str(educ.ID)\n",
    "for year in range(2005, 2016, 2):\n",
    "    educ[year] = pd.to_numeric(educ[year], errors='coerce')"
   ]
  },
  {
   "cell_type": "code",
   "execution_count": 122,
   "metadata": {
    "collapsed": false
   },
   "outputs": [
    {
     "data": {
      "text/plain": [
       "UF            object\n",
       "ID            object\n",
       "Municipio     object\n",
       "2005         float64\n",
       "2006         float64\n",
       "2007         float64\n",
       "2008         float64\n",
       "2009         float64\n",
       "2010         float64\n",
       "2011         float64\n",
       "2012         float64\n",
       "2013         float64\n",
       "2014         float64\n",
       "2015         float64\n",
       "dtype: object"
      ]
     },
     "execution_count": 122,
     "metadata": {},
     "output_type": "execute_result"
    }
   ],
   "source": [
    "educ.dtypes"
   ]
  },
  {
   "cell_type": "code",
   "execution_count": 123,
   "metadata": {
    "collapsed": false
   },
   "outputs": [
    {
     "data": {
      "text/html": [
       "<div>\n",
       "<table border=\"1\" class=\"dataframe\">\n",
       "  <thead>\n",
       "    <tr style=\"text-align: right;\">\n",
       "      <th></th>\n",
       "      <th>2005</th>\n",
       "      <th>2006</th>\n",
       "      <th>2007</th>\n",
       "      <th>2008</th>\n",
       "      <th>2009</th>\n",
       "      <th>2010</th>\n",
       "      <th>2011</th>\n",
       "      <th>2012</th>\n",
       "      <th>2013</th>\n",
       "      <th>2014</th>\n",
       "      <th>2015</th>\n",
       "    </tr>\n",
       "  </thead>\n",
       "  <tbody>\n",
       "    <tr>\n",
       "      <th>count</th>\n",
       "      <td>5022.000000</td>\n",
       "      <td>5014.000000</td>\n",
       "      <td>5483.000000</td>\n",
       "      <td>5375.000000</td>\n",
       "      <td>5404.000000</td>\n",
       "      <td>5168.000000</td>\n",
       "      <td>5227.000000</td>\n",
       "      <td>5117.000000</td>\n",
       "      <td>5304.000000</td>\n",
       "      <td>5166.000000</td>\n",
       "      <td>5280.000000</td>\n",
       "    </tr>\n",
       "    <tr>\n",
       "      <th>mean</th>\n",
       "      <td>3.607467</td>\n",
       "      <td>3.799900</td>\n",
       "      <td>4.011873</td>\n",
       "      <td>4.263395</td>\n",
       "      <td>4.519375</td>\n",
       "      <td>4.667454</td>\n",
       "      <td>4.830419</td>\n",
       "      <td>4.927115</td>\n",
       "      <td>5.034087</td>\n",
       "      <td>5.193428</td>\n",
       "      <td>5.358239</td>\n",
       "    </tr>\n",
       "    <tr>\n",
       "      <th>std</th>\n",
       "      <td>0.910893</td>\n",
       "      <td>0.863331</td>\n",
       "      <td>0.891285</td>\n",
       "      <td>0.908326</td>\n",
       "      <td>1.004569</td>\n",
       "      <td>0.963968</td>\n",
       "      <td>0.989617</td>\n",
       "      <td>0.996664</td>\n",
       "      <td>1.068075</td>\n",
       "      <td>1.003071</td>\n",
       "      <td>0.997740</td>\n",
       "    </tr>\n",
       "    <tr>\n",
       "      <th>min</th>\n",
       "      <td>1.100000</td>\n",
       "      <td>1.350000</td>\n",
       "      <td>0.900000</td>\n",
       "      <td>1.700000</td>\n",
       "      <td>1.400000</td>\n",
       "      <td>2.350000</td>\n",
       "      <td>2.500000</td>\n",
       "      <td>2.600000</td>\n",
       "      <td>2.300000</td>\n",
       "      <td>2.700000</td>\n",
       "      <td>2.300000</td>\n",
       "    </tr>\n",
       "    <tr>\n",
       "      <th>25%</th>\n",
       "      <td>2.800000</td>\n",
       "      <td>3.050000</td>\n",
       "      <td>3.300000</td>\n",
       "      <td>3.450000</td>\n",
       "      <td>3.700000</td>\n",
       "      <td>3.850000</td>\n",
       "      <td>4.000000</td>\n",
       "      <td>4.050000</td>\n",
       "      <td>4.100000</td>\n",
       "      <td>4.350000</td>\n",
       "      <td>4.500000</td>\n",
       "    </tr>\n",
       "    <tr>\n",
       "      <th>50%</th>\n",
       "      <td>3.600000</td>\n",
       "      <td>3.850000</td>\n",
       "      <td>4.000000</td>\n",
       "      <td>4.300000</td>\n",
       "      <td>4.600000</td>\n",
       "      <td>4.750000</td>\n",
       "      <td>4.900000</td>\n",
       "      <td>5.050000</td>\n",
       "      <td>5.200000</td>\n",
       "      <td>5.350000</td>\n",
       "      <td>5.500000</td>\n",
       "    </tr>\n",
       "    <tr>\n",
       "      <th>75%</th>\n",
       "      <td>4.300000</td>\n",
       "      <td>4.500000</td>\n",
       "      <td>4.700000</td>\n",
       "      <td>5.000000</td>\n",
       "      <td>5.300000</td>\n",
       "      <td>5.450000</td>\n",
       "      <td>5.600000</td>\n",
       "      <td>5.700000</td>\n",
       "      <td>5.900000</td>\n",
       "      <td>6.000000</td>\n",
       "      <td>6.100000</td>\n",
       "    </tr>\n",
       "    <tr>\n",
       "      <th>max</th>\n",
       "      <td>7.300000</td>\n",
       "      <td>6.850000</td>\n",
       "      <td>7.700000</td>\n",
       "      <td>7.800000</td>\n",
       "      <td>8.600000</td>\n",
       "      <td>8.250000</td>\n",
       "      <td>8.300000</td>\n",
       "      <td>7.650000</td>\n",
       "      <td>8.300000</td>\n",
       "      <td>8.300000</td>\n",
       "      <td>8.800000</td>\n",
       "    </tr>\n",
       "  </tbody>\n",
       "</table>\n",
       "</div>"
      ],
      "text/plain": [
       "              2005         2006         2007         2008         2009  \\\n",
       "count  5022.000000  5014.000000  5483.000000  5375.000000  5404.000000   \n",
       "mean      3.607467     3.799900     4.011873     4.263395     4.519375   \n",
       "std       0.910893     0.863331     0.891285     0.908326     1.004569   \n",
       "min       1.100000     1.350000     0.900000     1.700000     1.400000   \n",
       "25%       2.800000     3.050000     3.300000     3.450000     3.700000   \n",
       "50%       3.600000     3.850000     4.000000     4.300000     4.600000   \n",
       "75%       4.300000     4.500000     4.700000     5.000000     5.300000   \n",
       "max       7.300000     6.850000     7.700000     7.800000     8.600000   \n",
       "\n",
       "              2010         2011         2012         2013         2014  \\\n",
       "count  5168.000000  5227.000000  5117.000000  5304.000000  5166.000000   \n",
       "mean      4.667454     4.830419     4.927115     5.034087     5.193428   \n",
       "std       0.963968     0.989617     0.996664     1.068075     1.003071   \n",
       "min       2.350000     2.500000     2.600000     2.300000     2.700000   \n",
       "25%       3.850000     4.000000     4.050000     4.100000     4.350000   \n",
       "50%       4.750000     4.900000     5.050000     5.200000     5.350000   \n",
       "75%       5.450000     5.600000     5.700000     5.900000     6.000000   \n",
       "max       8.250000     8.300000     7.650000     8.300000     8.300000   \n",
       "\n",
       "              2015  \n",
       "count  5280.000000  \n",
       "mean      5.358239  \n",
       "std       0.997740  \n",
       "min       2.300000  \n",
       "25%       4.500000  \n",
       "50%       5.500000  \n",
       "75%       6.100000  \n",
       "max       8.800000  "
      ]
     },
     "execution_count": 123,
     "metadata": {},
     "output_type": "execute_result"
    }
   ],
   "source": [
    "educ.describe()"
   ]
  },
  {
   "cell_type": "code",
   "execution_count": 125,
   "metadata": {
    "collapsed": false
   },
   "outputs": [
    {
     "data": {
      "image/png": "[encoded data removed]",
      "text/plain": [
       "<matplotlib.figure.Figure at 0x15965e80>"
      ]
     },
     "metadata": {},
     "output_type": "display_data"
    }
   ],
   "source": [
    "educ.boxplot()\n",
    "plt.show()"
   ]
  },
  {
   "cell_type": "code",
   "execution_count": 126,
   "metadata": {
    "collapsed": false
   },
   "outputs": [
    {
     "data": {
      "image/png": "[encoded data removed]",
      "text/plain": [
       "<matplotlib.figure.Figure at 0x1160aac8>"
      ]
     },
     "metadata": {},
     "output_type": "display_data"
    }
   ],
   "source": [
    "educ.mean().plot()\n",
    "plt.show()"
   ]
  }
 ],
 "metadata": {
  "kernelspec": {
   "display_name": "Python 2",
   "language": "python",
   "name": "python2"
  },
  "language_info": {
   "codemirror_mode": {
    "name": "ipython",
    "version": 2
   },
   "file_extension": ".py",
   "mimetype": "text/x-python",
   "name": "python",
   "nbconvert_exporter": "python",
   "pygments_lexer": "ipython2",
   "version": "2.7.13"
  }
 },
 "nbformat": 4,
 "nbformat_minor": 2
}
